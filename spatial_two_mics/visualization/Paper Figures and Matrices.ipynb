{
 "cells": [
  {
   "cell_type": "code",
   "execution_count": null,
   "metadata": {},
   "outputs": [],
   "source": [
    "import numpy as np\n",
    "import os \n",
    "import sys\n",
    "data_dir = './spatial_two_mics_final_eval_results/'\n",
    "from glob2 import glob\n",
    "import pandas as pd\n",
    "import joblib\n",
    "from pprint import pprint "
   ]
  },
  {
   "cell_type": "code",
   "execution_count": null,
   "metadata": {},
   "outputs": [],
   "source": [
    "result_dirs = {2: [], 3: []}\n",
    "for n_speakers in result_dirs:\n",
    "    result_dirs[n_speakers] = glob(data_dir + '*_'+str(n_speakers)+'_*')\n",
    "    result_dirs[n_speakers] = glob(data_dir + '*_'+str(n_speakers)+'_*')\n",
    "print(result_dirs)"
   ]
  },
  {
   "cell_type": "code",
   "execution_count": null,
   "metadata": {},
   "outputs": [],
   "source": [
    "available_methods = set([])\n",
    "results = {}\n",
    "for n_speakers in result_dirs:\n",
    "    results[n_speakers] = {}\n",
    "    result_folders = result_dirs[n_speakers]\n",
    "    for folder in result_folders:\n",
    "        info = folder.split('_')\n",
    "        genders = info[-5]\n",
    "        results[n_speakers][genders] = {}\n",
    "        print(n_speakers, genders)\n",
    "        method_files = glob(folder + '/*.gz')\n",
    "        for method_file in method_files: \n",
    "            method_result = joblib.load(method_file)\n",
    "            method_name = os.path.basename(method_file).split('_metrics.gz')[0]\n",
    "            results[n_speakers][genders][method_name] = method_result\n",
    "            available_methods.add(method_name)"
   ]
  },
  {
   "cell_type": "code",
   "execution_count": null,
   "metadata": {},
   "outputs": [],
   "source": [
    "print(available_methods)"
   ]
  },
  {
   "cell_type": "code",
   "execution_count": null,
   "metadata": {},
   "outputs": [],
   "source": [
    "method_mapper = {'duet_deep_clustering':'DC BPD', \n",
    "                 'ground_truth_deep_clustering':'DC DS', \n",
    "                 'raw_phase_diff_deep_clustering':'DC RPD', \n",
    "                 'duet_mask':'BPD', \n",
    "                 'initial_mixture':'Initial', \n",
    "                 'ground_truth_mask':'DS'}"
   ]
  },
  {
   "cell_type": "code",
   "execution_count": null,
   "metadata": {},
   "outputs": [],
   "source": [
    "sdr_increment = {}\n",
    "for n_speaker in [2, 3]:\n",
    "    sdr_increment[n_speaker] = {}\n",
    "    for gender in results[n_speaker]:\n",
    "        sdr_increment[n_speaker][gender] = {}\n",
    "        for method, display_name in method_mapper.items():\n",
    "            if method == 'initial_mixture':\n",
    "                continue\n",
    "            metrics = results[n_speaker][gender][method]['sdr']\n",
    "            m = metrics.mean() - results[n_speaker][gender]['initial_mixture']['sdr'].mean()\n",
    "            sdr_increment[n_speaker][gender][display_name] = round(m, 2)"
   ]
  },
  {
   "cell_type": "code",
   "execution_count": null,
   "metadata": {},
   "outputs": [],
   "source": [
    "for n_speaker in [2, 3]:\n",
    "    df = pd.DataFrame.from_dict(sdr_increment[n_speaker])\n",
    "    print(df)\n",
    "    print(df.to_latex())"
   ]
  },
  {
   "cell_type": "code",
   "execution_count": null,
   "metadata": {},
   "outputs": [],
   "source": [
    "df2 = pd.DataFrame.from_dict(sdr_increment[2]) \n",
    "df3 = pd.DataFrame.from_dict(sdr_increment[3])\n",
    "print(pd.concat([df2, df3], axis=1).to_latex())    "
   ]
  },
  {
   "cell_type": "code",
   "execution_count": null,
   "metadata": {},
   "outputs": [],
   "source": [
    "#  go for the plots only for fm and 2 speakers\n",
    "genders = ['fm', 'f', 'm']\n",
    "n_sp = 2 \n",
    "sdr_plots_data = {}\n",
    "for gender in genders:\n",
    "    sdr_plots_data[gender] = {}\n",
    "    for n_speaker in [2, 3]:\n",
    "        sdr_plots_data[gender][n_speaker] = {}\n",
    "        for method, display_name in method_mapper.items():\n",
    "            metrics = results[n_speaker][gender][method]['sdr']\n",
    "            sdr_plots_data[gender][n_speaker][display_name] = metrics"
   ]
  },
  {
   "cell_type": "code",
   "execution_count": null,
   "metadata": {},
   "outputs": [],
   "source": [
    "print(sdr_plots_data)"
   ]
  },
  {
   "cell_type": "code",
   "execution_count": null,
   "metadata": {},
   "outputs": [],
   "source": [
    "# Plotly Functions \n",
    "import plotly\n",
    "import plotly.tools as tls\n",
    "import plotly.plotly as py\n",
    "import plotly.figure_factory as ff\n",
    "import plotly.graph_objs as go\n",
    "plotly.offline.init_notebook_mode()\n",
    "print(sdr_plots_data.keys())"
   ]
  },
  {
   "cell_type": "code",
   "execution_count": null,
   "metadata": {},
   "outputs": [],
   "source": [
    "def make_boxplots(sdr_plots_data):\n",
    "    methods = ['Initial', 'DC RPD', 'DC BPD',   'DC DS', 'BPD', 'DS', ]\n",
    "    colors = ['#b2182b', '#ef8a62', '#fddbc7', '#e0e0e0', '#999999', '#4d4d4d']\n",
    "    width = 1000\n",
    "    height = 500\n",
    "\n",
    "    traces = []\n",
    "    for i, m in enumerate(methods):\n",
    "        twosp_points = sdr_plots_data[2][m]\n",
    "        threesp_points = sdr_plots_data[3][m]\n",
    "        yd = ['2 Speakers' for _ in np.arange(twosp_points.shape[0])] + \\\n",
    "             ['3 Speakers' for _ in np.arange(threesp_points.shape[0])]\n",
    "\n",
    "        traces.append(go.Box(\n",
    "                selectedpoints = np.arange(5),\n",
    "\n",
    "                y=np.concatenate((twosp_points, threesp_points)),\n",
    "                x=yd,\n",
    "                name=m,\n",
    "                boxpoints='all',\n",
    "                jitter=0.3,\n",
    "                whiskerwidth=0.8,\n",
    "    #             fillcolor=colors[i],\n",
    "                marker=dict(\n",
    "                    size=1,\n",
    "    #                 color=colors[i]\n",
    "                ),\n",
    "                line=dict(width=2),\n",
    "            ))\n",
    "\n",
    "        layout = go.Layout(\n",
    "    #         title='Points Scored by the Top 9 Scoring NBA Players in 2012',\n",
    "            yaxis=dict(\n",
    "                autorange=True,\n",
    "                showgrid=True,\n",
    "                zeroline=True,\n",
    "                dtick=5,\n",
    "                gridcolor='rgb(255, 255, 255)',\n",
    "                gridwidth=1,\n",
    "                zerolinecolor='rgb(255, 255, 255)',\n",
    "                zerolinewidth=2,\n",
    "                title='Absolute SDR (dB)',\n",
    "                tickfont=dict(\n",
    "                    family='Old Standard TT, serif',\n",
    "                    size=19,\n",
    "                    color='black'\n",
    "                ),\n",
    "               titlefont=dict(\n",
    "                   family='Old Standard TT, serif',\n",
    "                    size=24,\n",
    "                   color='black'\n",
    "                )\n",
    "            ),\n",
    "            xaxis = dict(zeroline = False, \n",
    "                                   titlefont=dict(\n",
    "                                        size=24,\n",
    "                                    ),\n",
    "                                   tickfont=dict(\n",
    "                                        family='Old Standard TT, serif',\n",
    "                                        size=20,\n",
    "                                        color='black'\n",
    "                                    )),\n",
    "    #         margin=dict(\n",
    "    #             l=40,\n",
    "    #             r=30,\n",
    "    #             b=80,\n",
    "    #             t=100,\n",
    "    #         ),\n",
    "            paper_bgcolor='rgb(243, 243, 243)',\n",
    "            plot_bgcolor='rgb(243, 243, 243)',\n",
    "            boxmode= 'group',\n",
    "            showlegend=True,\n",
    "            boxgap=0.1,\n",
    "\n",
    "            legend=dict(\n",
    "    #                         x=0.0,\n",
    "\n",
    "                            y=1.15,\n",
    "                            yanchor = 'top',\n",
    "                            xanchor= 'center', x= 0.5,\n",
    "                            traceorder='normal',\n",
    "                            font=dict(\n",
    "                                family='sans-serif',\n",
    "                                size=20,\n",
    "                                color='#000'\n",
    "                            ),\n",
    "                            bgcolor='#E2E2E2',\n",
    "                            bordercolor='#FFFFFF',\n",
    "                            borderwidth=3,\n",
    "                            orientation=\"h\"\n",
    "                        ),\n",
    "\n",
    "            width = width, \n",
    "            height = height,       \n",
    "\n",
    "        )\n",
    "\n",
    "    fig = go.Figure(data=traces, layout=layout)\n",
    "    plotly.offline.plot(fig, filename='SDRplot.html', show_link=True, auto_open=True) \n",
    "#                          image_width= width,\n",
    "#                          image_height = height, \n",
    "#                          image='webp')\n",
    "\n",
    "#     plotly.io.write_image(fig, 'SDRplot.pdf')\n",
    "    \n",
    "for gender in genders: \n",
    "    make_boxplots(sdr_plots_data[gender])\n",
    "\n",
    "# plotly.offline.iplot(fig, filename='npd_paper', image_width= width,\n",
    "#                      image_height = height, image='svg')"
   ]
  },
  {
   "cell_type": "code",
   "execution_count": null,
   "metadata": {},
   "outputs": [],
   "source": []
  },
  {
   "cell_type": "code",
   "execution_count": null,
   "metadata": {},
   "outputs": [],
   "source": []
  }
 ],
 "metadata": {
  "kernelspec": {
   "display_name": "Python 3",
   "language": "python",
   "name": "python3"
  },
  "language_info": {
   "codemirror_mode": {
    "name": "ipython",
    "version": 3
   },
   "file_extension": ".py",
   "mimetype": "text/x-python",
   "name": "python",
   "nbconvert_exporter": "python",
   "pygments_lexer": "ipython3",
   "version": "3.5.2"
  }
 },
 "nbformat": 4,
 "nbformat_minor": 2
}
